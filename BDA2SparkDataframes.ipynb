{
  "nbformat": 4,
  "nbformat_minor": 0,
  "metadata": {
    "colab": {
      "provenance": []
    },
    "kernelspec": {
      "name": "python3",
      "display_name": "Python 3"
    },
    "language_info": {
      "name": "python"
    }
  },
  "cells": [
    {
      "cell_type": "markdown",
      "source": [
        "# Setup"
      ],
      "metadata": {
        "id": "FJdiZXm2qv3y"
      }
    },
    {
      "cell_type": "code",
      "execution_count": null,
      "metadata": {
        "colab": {
          "base_uri": "https://localhost:8080/"
        },
        "id": "ON2Jtoso3BT2",
        "outputId": "a2e141d0-ac61-4259-8653-40916fd3ffb5"
      },
      "outputs": [
        {
          "output_type": "stream",
          "name": "stdout",
          "text": [
            "Looking in indexes: https://pypi.org/simple, https://us-python.pkg.dev/colab-wheels/public/simple/\n",
            "Collecting pyspark\n",
            "  Downloading pyspark-3.4.0.tar.gz (310.8 MB)\n",
            "\u001b[2K     \u001b[90m━━━━━━━━━━━━━━━━━━━━━━━━━━━━━━━━━━━━━━━\u001b[0m \u001b[32m310.8/310.8 MB\u001b[0m \u001b[31m4.8 MB/s\u001b[0m eta \u001b[36m0:00:00\u001b[0m\n",
            "\u001b[?25h  Preparing metadata (setup.py) ... \u001b[?25l\u001b[?25hdone\n",
            "Requirement already satisfied: py4j==0.10.9.7 in /usr/local/lib/python3.10/dist-packages (from pyspark) (0.10.9.7)\n",
            "Building wheels for collected packages: pyspark\n",
            "  Building wheel for pyspark (setup.py) ... \u001b[?25l\u001b[?25hdone\n",
            "  Created wheel for pyspark: filename=pyspark-3.4.0-py2.py3-none-any.whl size=311317130 sha256=030e385361dec39bf421a289b18a4d2000cf9b586062c5dd6aeba4ca1dafc967\n",
            "  Stored in directory: /root/.cache/pip/wheels/7b/1b/4b/3363a1d04368e7ff0d408e57ff57966fcdf00583774e761327\n",
            "Successfully built pyspark\n",
            "Installing collected packages: pyspark\n",
            "Successfully installed pyspark-3.4.0\n",
            "Looking in indexes: https://pypi.org/simple, https://us-python.pkg.dev/colab-wheels/public/simple/\n",
            "Collecting findspark\n",
            "  Downloading findspark-2.0.1-py2.py3-none-any.whl (4.4 kB)\n",
            "Installing collected packages: findspark\n",
            "Successfully installed findspark-2.0.1\n",
            "Looking in indexes: https://pypi.org/simple, https://us-python.pkg.dev/colab-wheels/public/simple/\n",
            "Collecting pyarrow==1.0.0\n",
            "  Downloading pyarrow-1.0.0.tar.gz (1.2 MB)\n",
            "\u001b[2K     \u001b[90m━━━━━━━━━━━━━━━━━━━━━━━━━━━━━━━━━━━━━━━━\u001b[0m \u001b[32m1.2/1.2 MB\u001b[0m \u001b[31m48.7 MB/s\u001b[0m eta \u001b[36m0:00:00\u001b[0m\n",
            "\u001b[?25h  \u001b[1;31merror\u001b[0m: \u001b[1msubprocess-exited-with-error\u001b[0m\n",
            "  \n",
            "  \u001b[31m×\u001b[0m \u001b[32mpip subprocess to install build dependencies\u001b[0m did not run successfully.\n",
            "  \u001b[31m│\u001b[0m exit code: \u001b[1;36m1\u001b[0m\n",
            "  \u001b[31m╰─>\u001b[0m See above for output.\n",
            "  \n",
            "  \u001b[1;35mnote\u001b[0m: This error originates from a subprocess, and is likely not a problem with pip.\n",
            "  Installing build dependencies ... \u001b[?25l\u001b[?25herror\n",
            "\u001b[1;31merror\u001b[0m: \u001b[1msubprocess-exited-with-error\u001b[0m\n",
            "\n",
            "\u001b[31m×\u001b[0m \u001b[32mpip subprocess to install build dependencies\u001b[0m did not run successfully.\n",
            "\u001b[31m│\u001b[0m exit code: \u001b[1;36m1\u001b[0m\n",
            "\u001b[31m╰─>\u001b[0m See above for output.\n",
            "\n",
            "\u001b[1;35mnote\u001b[0m: This error originates from a subprocess, and is likely not a problem with pip.\n"
          ]
        }
      ],
      "source": [
        "# Installing required packages\n",
        "!pip install pyspark\n",
        "!pip install findspark\n",
        "!pip install pyarrow==1.0.0\n",
        "#!pip install pandas\n",
        "#!pip install numpy==1.19.5"
      ]
    },
    {
      "cell_type": "code",
      "source": [
        "import findspark\n",
        "findspark.init()"
      ],
      "metadata": {
        "id": "jTmXOSmWq0Sc"
      },
      "execution_count": null,
      "outputs": []
    },
    {
      "cell_type": "code",
      "source": [
        "import pandas as pd\n",
        "from pyspark import SparkContext, SparkConf\n",
        "from pyspark.sql import SparkSession"
      ],
      "metadata": {
        "id": "d92Y7fxbq2ME"
      },
      "execution_count": null,
      "outputs": []
    },
    {
      "cell_type": "markdown",
      "source": [
        "## Spark Session"
      ],
      "metadata": {
        "id": "e4p0ZBXgq4z8"
      }
    },
    {
      "cell_type": "code",
      "source": [
        "# Creating a spark context class\n",
        "sc = SparkContext()\n",
        "\n",
        "# Creating a spark session\n",
        "spark = SparkSession \\\n",
        "    .builder \\\n",
        "    .appName(\"Python Spark DataFrames basic example\") \\\n",
        "    .config(\"spark.some.config.option\", \"some-value\") \\\n",
        "    .getOrCreate()"
      ],
      "metadata": {
        "id": "RLVmE3Sfq7M7"
      },
      "execution_count": null,
      "outputs": []
    },
    {
      "cell_type": "code",
      "source": [
        "spark"
      ],
      "metadata": {
        "colab": {
          "base_uri": "https://localhost:8080/",
          "height": 219
        },
        "id": "8DQYOjq-q9Ky",
        "outputId": "d8452467-3304-4250-e6de-efc5e0c38ec8"
      },
      "execution_count": null,
      "outputs": [
        {
          "output_type": "execute_result",
          "data": {
            "text/plain": [
              "<pyspark.sql.session.SparkSession at 0x7f5ff5cf72b0>"
            ],
            "text/html": [
              "\n",
              "            <div>\n",
              "                <p><b>SparkSession - in-memory</b></p>\n",
              "                \n",
              "        <div>\n",
              "            <p><b>SparkContext</b></p>\n",
              "\n",
              "            <p><a href=\"http://9b7022612386:4040\">Spark UI</a></p>\n",
              "\n",
              "            <dl>\n",
              "              <dt>Version</dt>\n",
              "                <dd><code>v3.4.0</code></dd>\n",
              "              <dt>Master</dt>\n",
              "                <dd><code>local[*]</code></dd>\n",
              "              <dt>AppName</dt>\n",
              "                <dd><code>pyspark-shell</code></dd>\n",
              "            </dl>\n",
              "        </div>\n",
              "        \n",
              "            </div>\n",
              "        "
            ]
          },
          "metadata": {},
          "execution_count": 5
        }
      ]
    },
    {
      "cell_type": "markdown",
      "source": [
        "## Load Part 1"
      ],
      "metadata": {
        "id": "75OrlfYDq_Xe"
      }
    },
    {
      "cell_type": "code",
      "source": [
        "# Read the file using `read_csv` function in pandas\n",
        "music = pd.read_csv('updated_music_streaming.csv')"
      ],
      "metadata": {
        "id": "8ZuRE_YcrAmG"
      },
      "execution_count": null,
      "outputs": []
    },
    {
      "cell_type": "code",
      "source": [
        "# Preview a few records\n",
        "music.head()"
      ],
      "metadata": {
        "colab": {
          "base_uri": "https://localhost:8080/",
          "height": 443
        },
        "id": "nB-H841arQfH",
        "outputId": "cbb2b62c-5179-4f69-b247-c4f4d2c68927"
      },
      "execution_count": null,
      "outputs": [
        {
          "output_type": "execute_result",
          "data": {
            "text/plain": [
              "   Unnamed: 0                 Artist                                  Track  \\\n",
              "0           0             Bruno Mars  That's What I Like (feat. Gucci Mane)   \n",
              "1           1                 Boston                           Hitch a Ride   \n",
              "2           2          The Raincoats                     No Side to Fall In   \n",
              "3           3                   Deno             Lingo (feat. J.I & Chunkz)   \n",
              "4           4  Red Hot Chili Peppers      Nobody Weird Like Me - Remastered   \n",
              "\n",
              "   Popularity  danceability     energy   key  loudness  mode  speechiness  \\\n",
              "0        60.0     85.474500  56.347180   1.0    -4.964     1     2.788204   \n",
              "1        54.0     34.689047  81.377467   3.0    -7.230     1     1.941019   \n",
              "2        35.0     40.284054  61.353237   6.0    -8.334     1     3.217158   \n",
              "3        66.0     85.366903  59.651178  10.0    -6.528     0     3.538874   \n",
              "4        53.0     11.555842  97.496971   2.0    -4.279     1    20.750670   \n",
              "\n",
              "   acousticness  instrumentalness   liveness    valence    tempo  duration  \\\n",
              "0      1.716867          0.423093   7.387916  90.979782  134.071  3.909933   \n",
              "1      0.110442          0.402510   9.017306  56.765163  116.454  4.195550   \n",
              "2     48.795181          0.019578  38.670175  79.367548  147.681  1.827783   \n",
              "3      2.128514          0.423093  11.142597  56.765163  107.033  2.899467   \n",
              "4      0.016968          1.616367  16.202813   7.288751  199.060  3.832667   \n",
              "\n",
              "   time_signature  Genre  duration_in min  \n",
              "0               4      5         3.909933  \n",
              "1               4     10         4.195550  \n",
              "2               4      6         1.827783  \n",
              "3               4      5         2.899467  \n",
              "4               4     10         3.832667  "
            ],
            "text/html": [
              "\n",
              "  <div id=\"df-3167a8de-5efb-4e8d-8858-d384cdaa52d1\">\n",
              "    <div class=\"colab-df-container\">\n",
              "      <div>\n",
              "<style scoped>\n",
              "    .dataframe tbody tr th:only-of-type {\n",
              "        vertical-align: middle;\n",
              "    }\n",
              "\n",
              "    .dataframe tbody tr th {\n",
              "        vertical-align: top;\n",
              "    }\n",
              "\n",
              "    .dataframe thead th {\n",
              "        text-align: right;\n",
              "    }\n",
              "</style>\n",
              "<table border=\"1\" class=\"dataframe\">\n",
              "  <thead>\n",
              "    <tr style=\"text-align: right;\">\n",
              "      <th></th>\n",
              "      <th>Unnamed: 0</th>\n",
              "      <th>Artist</th>\n",
              "      <th>Track</th>\n",
              "      <th>Popularity</th>\n",
              "      <th>danceability</th>\n",
              "      <th>energy</th>\n",
              "      <th>key</th>\n",
              "      <th>loudness</th>\n",
              "      <th>mode</th>\n",
              "      <th>speechiness</th>\n",
              "      <th>acousticness</th>\n",
              "      <th>instrumentalness</th>\n",
              "      <th>liveness</th>\n",
              "      <th>valence</th>\n",
              "      <th>tempo</th>\n",
              "      <th>duration</th>\n",
              "      <th>time_signature</th>\n",
              "      <th>Genre</th>\n",
              "      <th>duration_in min</th>\n",
              "    </tr>\n",
              "  </thead>\n",
              "  <tbody>\n",
              "    <tr>\n",
              "      <th>0</th>\n",
              "      <td>0</td>\n",
              "      <td>Bruno Mars</td>\n",
              "      <td>That's What I Like (feat. Gucci Mane)</td>\n",
              "      <td>60.0</td>\n",
              "      <td>85.474500</td>\n",
              "      <td>56.347180</td>\n",
              "      <td>1.0</td>\n",
              "      <td>-4.964</td>\n",
              "      <td>1</td>\n",
              "      <td>2.788204</td>\n",
              "      <td>1.716867</td>\n",
              "      <td>0.423093</td>\n",
              "      <td>7.387916</td>\n",
              "      <td>90.979782</td>\n",
              "      <td>134.071</td>\n",
              "      <td>3.909933</td>\n",
              "      <td>4</td>\n",
              "      <td>5</td>\n",
              "      <td>3.909933</td>\n",
              "    </tr>\n",
              "    <tr>\n",
              "      <th>1</th>\n",
              "      <td>1</td>\n",
              "      <td>Boston</td>\n",
              "      <td>Hitch a Ride</td>\n",
              "      <td>54.0</td>\n",
              "      <td>34.689047</td>\n",
              "      <td>81.377467</td>\n",
              "      <td>3.0</td>\n",
              "      <td>-7.230</td>\n",
              "      <td>1</td>\n",
              "      <td>1.941019</td>\n",
              "      <td>0.110442</td>\n",
              "      <td>0.402510</td>\n",
              "      <td>9.017306</td>\n",
              "      <td>56.765163</td>\n",
              "      <td>116.454</td>\n",
              "      <td>4.195550</td>\n",
              "      <td>4</td>\n",
              "      <td>10</td>\n",
              "      <td>4.195550</td>\n",
              "    </tr>\n",
              "    <tr>\n",
              "      <th>2</th>\n",
              "      <td>2</td>\n",
              "      <td>The Raincoats</td>\n",
              "      <td>No Side to Fall In</td>\n",
              "      <td>35.0</td>\n",
              "      <td>40.284054</td>\n",
              "      <td>61.353237</td>\n",
              "      <td>6.0</td>\n",
              "      <td>-8.334</td>\n",
              "      <td>1</td>\n",
              "      <td>3.217158</td>\n",
              "      <td>48.795181</td>\n",
              "      <td>0.019578</td>\n",
              "      <td>38.670175</td>\n",
              "      <td>79.367548</td>\n",
              "      <td>147.681</td>\n",
              "      <td>1.827783</td>\n",
              "      <td>4</td>\n",
              "      <td>6</td>\n",
              "      <td>1.827783</td>\n",
              "    </tr>\n",
              "    <tr>\n",
              "      <th>3</th>\n",
              "      <td>3</td>\n",
              "      <td>Deno</td>\n",
              "      <td>Lingo (feat. J.I &amp; Chunkz)</td>\n",
              "      <td>66.0</td>\n",
              "      <td>85.366903</td>\n",
              "      <td>59.651178</td>\n",
              "      <td>10.0</td>\n",
              "      <td>-6.528</td>\n",
              "      <td>0</td>\n",
              "      <td>3.538874</td>\n",
              "      <td>2.128514</td>\n",
              "      <td>0.423093</td>\n",
              "      <td>11.142597</td>\n",
              "      <td>56.765163</td>\n",
              "      <td>107.033</td>\n",
              "      <td>2.899467</td>\n",
              "      <td>4</td>\n",
              "      <td>5</td>\n",
              "      <td>2.899467</td>\n",
              "    </tr>\n",
              "    <tr>\n",
              "      <th>4</th>\n",
              "      <td>4</td>\n",
              "      <td>Red Hot Chili Peppers</td>\n",
              "      <td>Nobody Weird Like Me - Remastered</td>\n",
              "      <td>53.0</td>\n",
              "      <td>11.555842</td>\n",
              "      <td>97.496971</td>\n",
              "      <td>2.0</td>\n",
              "      <td>-4.279</td>\n",
              "      <td>1</td>\n",
              "      <td>20.750670</td>\n",
              "      <td>0.016968</td>\n",
              "      <td>1.616367</td>\n",
              "      <td>16.202813</td>\n",
              "      <td>7.288751</td>\n",
              "      <td>199.060</td>\n",
              "      <td>3.832667</td>\n",
              "      <td>4</td>\n",
              "      <td>10</td>\n",
              "      <td>3.832667</td>\n",
              "    </tr>\n",
              "  </tbody>\n",
              "</table>\n",
              "</div>\n",
              "      <button class=\"colab-df-convert\" onclick=\"convertToInteractive('df-3167a8de-5efb-4e8d-8858-d384cdaa52d1')\"\n",
              "              title=\"Convert this dataframe to an interactive table.\"\n",
              "              style=\"display:none;\">\n",
              "        \n",
              "  <svg xmlns=\"http://www.w3.org/2000/svg\" height=\"24px\"viewBox=\"0 0 24 24\"\n",
              "       width=\"24px\">\n",
              "    <path d=\"M0 0h24v24H0V0z\" fill=\"none\"/>\n",
              "    <path d=\"M18.56 5.44l.94 2.06.94-2.06 2.06-.94-2.06-.94-.94-2.06-.94 2.06-2.06.94zm-11 1L8.5 8.5l.94-2.06 2.06-.94-2.06-.94L8.5 2.5l-.94 2.06-2.06.94zm10 10l.94 2.06.94-2.06 2.06-.94-2.06-.94-.94-2.06-.94 2.06-2.06.94z\"/><path d=\"M17.41 7.96l-1.37-1.37c-.4-.4-.92-.59-1.43-.59-.52 0-1.04.2-1.43.59L10.3 9.45l-7.72 7.72c-.78.78-.78 2.05 0 2.83L4 21.41c.39.39.9.59 1.41.59.51 0 1.02-.2 1.41-.59l7.78-7.78 2.81-2.81c.8-.78.8-2.07 0-2.86zM5.41 20L4 18.59l7.72-7.72 1.47 1.35L5.41 20z\"/>\n",
              "  </svg>\n",
              "      </button>\n",
              "      \n",
              "  <style>\n",
              "    .colab-df-container {\n",
              "      display:flex;\n",
              "      flex-wrap:wrap;\n",
              "      gap: 12px;\n",
              "    }\n",
              "\n",
              "    .colab-df-convert {\n",
              "      background-color: #E8F0FE;\n",
              "      border: none;\n",
              "      border-radius: 50%;\n",
              "      cursor: pointer;\n",
              "      display: none;\n",
              "      fill: #1967D2;\n",
              "      height: 32px;\n",
              "      padding: 0 0 0 0;\n",
              "      width: 32px;\n",
              "    }\n",
              "\n",
              "    .colab-df-convert:hover {\n",
              "      background-color: #E2EBFA;\n",
              "      box-shadow: 0px 1px 2px rgba(60, 64, 67, 0.3), 0px 1px 3px 1px rgba(60, 64, 67, 0.15);\n",
              "      fill: #174EA6;\n",
              "    }\n",
              "\n",
              "    [theme=dark] .colab-df-convert {\n",
              "      background-color: #3B4455;\n",
              "      fill: #D2E3FC;\n",
              "    }\n",
              "\n",
              "    [theme=dark] .colab-df-convert:hover {\n",
              "      background-color: #434B5C;\n",
              "      box-shadow: 0px 1px 3px 1px rgba(0, 0, 0, 0.15);\n",
              "      filter: drop-shadow(0px 1px 2px rgba(0, 0, 0, 0.3));\n",
              "      fill: #FFFFFF;\n",
              "    }\n",
              "  </style>\n",
              "\n",
              "      <script>\n",
              "        const buttonEl =\n",
              "          document.querySelector('#df-3167a8de-5efb-4e8d-8858-d384cdaa52d1 button.colab-df-convert');\n",
              "        buttonEl.style.display =\n",
              "          google.colab.kernel.accessAllowed ? 'block' : 'none';\n",
              "\n",
              "        async function convertToInteractive(key) {\n",
              "          const element = document.querySelector('#df-3167a8de-5efb-4e8d-8858-d384cdaa52d1');\n",
              "          const dataTable =\n",
              "            await google.colab.kernel.invokeFunction('convertToInteractive',\n",
              "                                                     [key], {});\n",
              "          if (!dataTable) return;\n",
              "\n",
              "          const docLinkHtml = 'Like what you see? Visit the ' +\n",
              "            '<a target=\"_blank\" href=https://colab.research.google.com/notebooks/data_table.ipynb>data table notebook</a>'\n",
              "            + ' to learn more about interactive tables.';\n",
              "          element.innerHTML = '';\n",
              "          dataTable['output_type'] = 'display_data';\n",
              "          await google.colab.output.renderOutput(dataTable, element);\n",
              "          const docLink = document.createElement('div');\n",
              "          docLink.innerHTML = docLinkHtml;\n",
              "          element.appendChild(docLink);\n",
              "        }\n",
              "      </script>\n",
              "    </div>\n",
              "  </div>\n",
              "  "
            ]
          },
          "metadata": {},
          "execution_count": 7
        }
      ]
    },
    {
      "cell_type": "markdown",
      "source": [
        "Please note I have saved the cleaned & engineered csv file already from SparkSQL so that I don't repeat the steps again here."
      ],
      "metadata": {
        "id": "aYbVk_MDLMcO"
      }
    },
    {
      "cell_type": "markdown",
      "source": [
        "# Loading Part 2 (Loading Data Into Spark DataFrame)"
      ],
      "metadata": {
        "id": "5Owf-_WfrkQ9"
      }
    },
    {
      "cell_type": "code",
      "source": [
        "sdf = spark.createDataFrame(music)"
      ],
      "metadata": {
        "id": "mqbbi5ehrmJV"
      },
      "execution_count": null,
      "outputs": []
    },
    {
      "cell_type": "code",
      "source": [
        "sdf.printSchema()"
      ],
      "metadata": {
        "id": "KQ4UtuaHrs_E",
        "colab": {
          "base_uri": "https://localhost:8080/"
        },
        "outputId": "2acbf035-374e-4e6a-fd0c-bb4f8c46ed46"
      },
      "execution_count": null,
      "outputs": [
        {
          "output_type": "stream",
          "name": "stdout",
          "text": [
            "root\n",
            " |-- Unnamed: 0: long (nullable = true)\n",
            " |-- Artist: string (nullable = true)\n",
            " |-- Track: string (nullable = true)\n",
            " |-- Popularity: double (nullable = true)\n",
            " |-- danceability: double (nullable = true)\n",
            " |-- energy: double (nullable = true)\n",
            " |-- key: double (nullable = true)\n",
            " |-- loudness: double (nullable = true)\n",
            " |-- mode: long (nullable = true)\n",
            " |-- speechiness: double (nullable = true)\n",
            " |-- acousticness: double (nullable = true)\n",
            " |-- instrumentalness: double (nullable = true)\n",
            " |-- liveness: double (nullable = true)\n",
            " |-- valence: double (nullable = true)\n",
            " |-- tempo: double (nullable = true)\n",
            " |-- duration: double (nullable = true)\n",
            " |-- time_signature: long (nullable = true)\n",
            " |-- Genre: long (nullable = true)\n",
            " |-- duration_in min: double (nullable = true)\n",
            "\n"
          ]
        }
      ]
    },
    {
      "cell_type": "code",
      "source": [
        "sdf.createTempView(\"songs\")"
      ],
      "metadata": {
        "id": "Hiq34Anxrv7-"
      },
      "execution_count": null,
      "outputs": []
    },
    {
      "cell_type": "markdown",
      "source": [
        "# Tasks"
      ],
      "metadata": {
        "id": "wflBzDvj7Om9"
      }
    },
    {
      "cell_type": "markdown",
      "source": [
        "## b) Remove any songs that exceed 5 minutes"
      ],
      "metadata": {
        "id": "rASZsX0t7iUm"
      }
    },
    {
      "cell_type": "code",
      "source": [
        "sdf.filter(sdf['duration'] < 5).show(5)"
      ],
      "metadata": {
        "colab": {
          "base_uri": "https://localhost:8080/"
        },
        "id": "I-4V_0WL8Z2A",
        "outputId": "9519f718-b3b9-4d49-a1b6-0e798aeb984e"
      },
      "execution_count": null,
      "outputs": [
        {
          "output_type": "stream",
          "name": "stdout",
          "text": [
            "+----------+--------------------+--------------------+----------+------------------+-----------------+----+--------+----+------------------+------------------+------------------+------------------+-----------------+-------+------------------+--------------+-----+------------------+\n",
            "|Unnamed: 0|              Artist|               Track|Popularity|      danceability|           energy| key|loudness|mode|       speechiness|      acousticness|  instrumentalness|          liveness|          valence|  tempo|          duration|time_signature|Genre|   duration_in min|\n",
            "+----------+--------------------+--------------------+----------+------------------+-----------------+----+--------+----+------------------+------------------+------------------+------------------+-----------------+-------+------------------+--------------+-----+------------------+\n",
            "|         0|          Bruno Mars|That's What I Lik...|      60.0|  85.4744996772111|56.34718008790636| 1.0|  -4.964|   1|2.7882037533512065| 1.716867469879518|0.4230927942698738| 7.387916202813481|90.97978227060652|134.071|3.9099333333333335|             4|    5|3.9099333333333335|\n",
            "|         1|              Boston|        Hitch a Ride|      54.0| 34.68904669679364|81.37746673474904| 3.0|   -7.23|   1| 1.941018766756032| 0.110441767068273|0.4025104442875946| 9.017305940694262|56.76516329704509|116.454|           4.19555|             4|   10|           4.19555|\n",
            "|         2|       The Raincoats|  No Side to Fall In|      35.0| 40.28405422853454| 61.3532374172749| 6.0|  -8.334|   1|   3.2171581769437|48.795180722891565|0.0195783329099728| 38.67017508349358| 79.3675479523069|147.681| 1.827783333333333|             4|    6| 1.827783333333333|\n",
            "|         3|                Deno|Lingo (feat. J.I ...|      66.0| 85.36690337852377| 59.6511779252896|10.0|  -6.528|   0|3.5388739946380703|2.1285140562248994|0.4230927942698738|11.142596903147457|56.76516329704509|107.033| 2.899466666666666|             4|    5| 2.899466666666666|\n",
            "|         4|Red Hot Chili Pep...|Nobody Weird Like...|      53.0|11.555842479018724|97.49697133531572| 2.0|  -4.279|   1|20.750670241286866|0.0169678714859437|1.6163670847059084| 16.20281348041696|7.288750648004148| 199.06| 3.832666666666667|             4|   10| 3.832666666666667|\n",
            "+----------+--------------------+--------------------+----------+------------------+-----------------+----+--------+----+------------------+------------------+------------------+------------------+-----------------+-------+------------------+--------------+-----+------------------+\n",
            "only showing top 5 rows\n",
            "\n"
          ]
        }
      ]
    },
    {
      "cell_type": "markdown",
      "source": [
        "## c) Display songs by J. Cole, Novo Amor and Anson Seabra\n"
      ],
      "metadata": {
        "id": "e3aEFeDO7jfY"
      }
    },
    {
      "cell_type": "code",
      "source": [
        "sdf.filter(sdf['Artist'].isin(\"J. Cole\", \"Novo Amor\", \"Anson Seabra\")).show(10)"
      ],
      "metadata": {
        "colab": {
          "base_uri": "https://localhost:8080/"
        },
        "id": "IyVYJhTI90f-",
        "outputId": "157b022d-f423-469c-c2bb-a7d5f7af354d"
      },
      "execution_count": null,
      "outputs": [
        {
          "output_type": "stream",
          "name": "stdout",
          "text": [
            "+----------+------------+--------------------+----------+-----------------+-----------------+----+--------+----+------------------+------------------+------------------+------------------+------------------+-------+------------------+--------------+-----+------------------+\n",
            "|Unnamed: 0|      Artist|               Track|Popularity|     danceability|           energy| key|loudness|mode|       speechiness|      acousticness|  instrumentalness|          liveness|           valence|  tempo|          duration|time_signature|Genre|   duration_in min|\n",
            "+----------+------------+--------------------+----------+-----------------+-----------------+----+--------+----+------------------+------------------+------------------+------------------+------------------+-------+------------------+--------------+-----+------------------+\n",
            "|      1525|     J. Cole|p u n c h i n ‚Äò...|      81.0|76.32881428878846|73.96850188728361|11.0|  -6.579|   0| 38.12332439678284|19.779116465863453|0.4230927942698738|16.101609148871574| 69.51788491446344| 94.104|1.8763166666666664|             4|    5|1.8763166666666664|\n",
            "|      2497|     J. Cole|p r i d e . i s ....|      85.0|86.22767376802238|65.55832557394447| 4.0|  -7.867|   0| 43.16353887399463|10.441767068273093|0.4230927942698738| 8.774415544985324| 32.08916537065837| 88.967| 3.636833333333333|             4|    5| 3.636833333333333|\n",
            "|      4051|     J. Cole|   i n t e r l u d e|      81.0|76.43641058747579|57.34839155378007| 1.0|  -5.525|   1| 8.954423592493299| 6.194779116465863|0.4230927942698738|  9.32091893533043| 8.553654743390357| 98.962| 2.217033333333333|             3|    5| 2.217033333333333|\n",
            "|      4780|     J. Cole|m y . l i f e (wi...|      86.0|57.82225091456853|58.64996645941589| 7.0|  -7.026|   0|12.278820375335124| 6.244979919678714|0.4230927942698738| 20.45339540532335| 5.578019699326076|140.021|            3.6467|             4|    9|            3.6467|\n",
            "|      9866|   Novo Amor|            Birdcage|      54.0|55.34753604476006|40.62816007368916| 1.0|  -8.321|   1|0.1930294906166221| 90.56224899598394| 63.95578710420393| 8.177309988867524| 20.89165370658372| 82.047|           3.37045|             4|    6|           3.37045|\n",
            "|     11737|     J. Cole|a p p l y i n g ....|      82.0| 68.7970733806757|75.87080367244366| 1.0|  -5.302|   1| 30.93833780160858|  8.17269076305221|0.4230927942698738| 30.37141989677158| 39.65785381026439| 83.092| 2.955616666666667|             4|    5| 2.955616666666667|\n",
            "|     12030|     J. Cole|           a m a r i|      86.0|71.59457714654616| 71.2652309294246| 4.0|  -6.173|   0| 17.64075067024129|12.751004016064256|0.4230927942698738| 61.23874101811558| 19.23276308968377| 65.988| 2.473683333333333|             4|    9| 2.473683333333333|\n",
            "|     12553|     J. Cole|           a m a r i|      86.0|71.59457714654616| 71.2652309294246| 4.0|  -6.173|   0| 17.64075067024129|12.751004016064256|0.4230927942698738| 61.23874101811558| 19.23276308968377| 65.988| 2.473683333333333|             4|    5| 2.473683333333333|\n",
            "|     13243|Anson Seabra|           Magazines|      46.0|76.97439208091242|42.33021956567447| 5.0| -12.276|   1|  4.82573726541555| 51.30522088353413|0.4230927942698738|11.243801234692844|17.573872472783826| 114.95|            3.6675|             4|    9|            3.6675|\n",
            "|     13426|     J. Cole|     9 5 . s o u t h|      84.0|70.30342156229825|79.27492265641426| 2.0|  -5.277|   1|40.160857908847184|27.208835341365464|0.4230927942698738| 72.37121748810848|18.818040435458787| 71.724| 3.282433333333333|             4|    5| 3.282433333333333|\n",
            "+----------+------------+--------------------+----------+-----------------+-----------------+----+--------+----+------------------+------------------+------------------+------------------+------------------+-------+------------------+--------------+-----+------------------+\n",
            "only showing top 10 rows\n",
            "\n"
          ]
        }
      ]
    },
    {
      "cell_type": "markdown",
      "source": [
        "## d) How many songs are included in every category?\n"
      ],
      "metadata": {
        "id": "rBrST2-r7lf0"
      }
    },
    {
      "cell_type": "code",
      "source": [
        "sdf.groupBy(\"Genre\").count().show()"
      ],
      "metadata": {
        "colab": {
          "base_uri": "https://localhost:8080/"
        },
        "id": "cqhS6wOM-NC9",
        "outputId": "1709ca97-960b-48f6-b10d-49a44ee76994"
      },
      "execution_count": null,
      "outputs": [
        {
          "output_type": "stream",
          "name": "stdout",
          "text": [
            "+-----+-----+\n",
            "|Genre|count|\n",
            "+-----+-----+\n",
            "|    0|  586|\n",
            "|    7|  465|\n",
            "|    6| 2263|\n",
            "|    9| 1828|\n",
            "|    5| 1210|\n",
            "|    1| 1268|\n",
            "|   10| 4264|\n",
            "|    3|  371|\n",
            "|    8| 1704|\n",
            "|    2| 1182|\n",
            "|    4|  376|\n",
            "+-----+-----+\n",
            "\n"
          ]
        }
      ]
    },
    {
      "cell_type": "markdown",
      "source": [
        "## e) Which artists dominated the charts?\n"
      ],
      "metadata": {
        "id": "xmNUl-Y67nRp"
      }
    },
    {
      "cell_type": "code",
      "source": [
        "# Domination of the charts by an artist is determined by how ofen they appear, as well as how popular their songs are as well\n",
        "# In my opinion, the most popular artists arethe most dominant in the charts, therefore the artists with the highest sum of popularity\n",
        "from pyspark.sql.functions import desc\n",
        "\n",
        "dominant_artist = sdf.groupby('Artist') \\\n",
        "    .agg({'Popularity': 'count', 'Popularity': 'sum'}) \\\n",
        "    .orderBy(desc('sum(Popularity)')) \\\n",
        "    .show(10)"
      ],
      "metadata": {
        "colab": {
          "base_uri": "https://localhost:8080/"
        },
        "id": "WX0FgdPNFlNX",
        "outputId": "71b79769-2fe3-42c8-ed31-1f140ae72e96"
      },
      "execution_count": null,
      "outputs": [
        {
          "output_type": "stream",
          "name": "stdout",
          "text": [
            "+------------------+------------------+\n",
            "|            Artist|   sum(Popularity)|\n",
            "+------------------+------------------+\n",
            "|    Britney Spears| 2637.241221979766|\n",
            "|   Backstreet Boys|            2615.0|\n",
            "|The Rolling Stones|1838.3294319910071|\n",
            "|         Metallica|            1710.0|\n",
            "|                U2|            1648.0|\n",
            "|          Westlife|1553.7236659392977|\n",
            "|             AC/DC|            1549.0|\n",
            "|          Coldplay|            1441.0|\n",
            "|       The Beatles|1409.6588639820143|\n",
            "|           Nirvana|            1385.0|\n",
            "+------------------+------------------+\n",
            "only showing top 10 rows\n",
            "\n"
          ]
        }
      ]
    },
    {
      "cell_type": "markdown",
      "source": [
        "## f) What songs would be considered for the “Billboard Top 10 Songs of the Year”? (mention their artists as well)"
      ],
      "metadata": {
        "id": "MvluOCiV7tQP"
      }
    },
    {
      "cell_type": "code",
      "source": [
        "# most popular songs overall belong to billboard top 10.\n",
        "\n",
        "sdf.select(\"Track\", \"Artist\", \"Popularity\") \\\n",
        "    .orderBy(desc(\"Popularity\")) \\\n",
        "    .show(10)"
      ],
      "metadata": {
        "colab": {
          "base_uri": "https://localhost:8080/"
        },
        "id": "EUISvgG0GmKl",
        "outputId": "3e354271-8267-4c1e-a3bb-f40a241569ac"
      },
      "execution_count": null,
      "outputs": [
        {
          "output_type": "stream",
          "name": "stdout",
          "text": [
            "+--------------------+--------------------+----------+\n",
            "|               Track|              Artist|Popularity|\n",
            "+--------------------+--------------------+----------+\n",
            "|MONTERO (Call Me ...|           Lil Nas X|     100.0|\n",
            "|             Beggin'|            Måneskin|     100.0|\n",
            "|            good 4 u|      Olivia Rodrigo|      99.0|\n",
            "|Kiss Me More (fea...|            Doja Cat|      98.0|\n",
            "|STAY (with Justin...|The Kid LAROI, Ju...|      97.0|\n",
            "|Astronaut In The ...|         Masked Wolf|      97.0|\n",
            "|          Bad Habits|          Ed Sheeran|      97.0|\n",
            "|STAY (with Justin...|The Kid LAROI, Ju...|      97.0|\n",
            "|              Butter|                 BTS|      96.0|\n",
            "|             RAPSTAR|              Polo G|      96.0|\n",
            "+--------------------+--------------------+----------+\n",
            "only showing top 10 rows\n",
            "\n"
          ]
        }
      ]
    },
    {
      "cell_type": "markdown",
      "source": [
        "## g) Recommend at least 5 songs that can be played at a party\n"
      ],
      "metadata": {
        "id": "SCwYbDJQ7vFY"
      }
    },
    {
      "cell_type": "code",
      "source": [
        "# I think the main parameters for a party song are: Liveness, Loudness, Energy and Danceability. Valence is not considered because party songs\n",
        "# don't necessarily have to be happy. Duration is irrelevant. Speechiness is not a factor because there are EDM songs without words that\n",
        "# work great in parties. The same reasoning goes for Instrumentalness. Tempo could be considered (as high tempo is synonymous with high energy\n",
        "# which is great for parties) however there exist low tempo party songs. I think the most import factors are that the song is lively, loud,\n",
        "# energetic and danceable.\n",
        "# popularity could be a factor, however some unknown songs can be great party songs\n",
        "\n",
        "# I wanted to keep the values as high as possible while still giving at least 5 results\n",
        "\n",
        "party_songs = sdf.select(\"Track\", \"Artist\", \"Liveness\", \"Loudness\", \"Energy\", \"Danceability\") \\\n",
        "    .filter((sdf[\"Liveness\"] >= 85) & (sdf[\"Loudness\"] >= -10) & (sdf[\"Energy\"] >= 85) & (sdf[\"Danceability\"] >= 60)) \\\n",
        "    .orderBy(\"Popularity\", ascending=False) \\\n",
        "    .show()\n"
      ],
      "metadata": {
        "colab": {
          "base_uri": "https://localhost:8080/"
        },
        "id": "3j5vmdNeHBIL",
        "outputId": "9f2fbec4-9edd-4907-9588-c59f5bbfff92"
      },
      "execution_count": null,
      "outputs": [
        {
          "output_type": "stream",
          "name": "stdout",
          "text": [
            "+--------------------+----------+-----------------+--------+-----------------+-----------------+\n",
            "|               Track|    Artist|         Liveness|Loudness|           Energy|     Danceability|\n",
            "+--------------------+----------+-----------------+--------+-----------------+-----------------+\n",
            "|I Like It, I Love It|Tim McGraw| 94.7373747596397|  -5.298|96.09527528309252| 62.7716806541855|\n",
            "|         Got Me Good|     Ciara|89.17113652464326|  -4.465|95.99515413650516|69.87303636754895|\n",
            "|     Good Times Roll|      GRiZ|97.26748304827446|  -5.445|87.38473552999129|66.42995480955456|\n",
            "|Lovin' Is Everywhere| Engelwood|89.06993219309787|  -6.411|89.58740075491345|62.23369916074887|\n",
            "|Stars - Live at S...|Simply Red|97.36868737981986|  -7.222|91.28946024689876|61.15773617387562|\n",
            "|             Trigger| FEVER 333|88.56391053537091|  -4.125| 98.5983039477768|61.37292877125027|\n",
            "+--------------------+----------+-----------------+--------+-----------------+-----------------+\n",
            "\n"
          ]
        }
      ]
    }
  ]
}